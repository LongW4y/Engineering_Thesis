{
 "cells": [
  {
   "cell_type": "code",
   "execution_count": 1054,
   "metadata": {},
   "outputs": [],
   "source": [
    "import pandas as pd\n",
    "import numpy as np\n",
    "import pathlib\n",
    "from main import BASEPATH, IMAGESPATH, IMAGEFILENAME, BLOCKFILENAME\n",
    "import torch\n",
    "import torch.nn as nn\n",
    "import torch.optim as optim\n",
    "import torch.nn.functional as F\n",
    "from torch.utils.data import DataLoader\n",
    "import torchvision.transforms as transforms"
   ]
  },
  {
   "cell_type": "code",
   "execution_count": 1055,
   "metadata": {},
   "outputs": [],
   "source": [
    "#   INITIAL DATA PREPARATION CELL\n",
    "trainPath = BASEPATH + IMAGESPATH\n",
    "#print(trainPath) # C:\\Users\\longw\\Desktop\\G Drive\\Praca_inżynierska\\Engineering_Thesis\\backups\\images\\\n",
    "    \n",
    "# find the newest directory within backups/images/\n",
    "withinImages= pathlib.Path(trainPath).glob('*')\n",
    "dataPaths = [file for file in withinImages if file.is_dir()]\n",
    "newestDir = str(dataPaths[-1]) + '\\\\'\n",
    "#print(newestDir) # C:\\Users\\longw\\Desktop\\G Drive\\Praca_inżynierska\\Engineering_Thesis\\backups\\images\\220117_21214749\\\n",
    "\n",
    "dfImages = pd.read_csv(newestDir + IMAGEFILENAME, index_col=None, header=None, names=['image row', 'image col', 'R_images','G_images','B_images'])\n",
    "dfBlocks = pd.read_csv(newestDir + BLOCKFILENAME, index_col=None, header=None, names=['R_blocks','G_blocks','B_blocks', 'Path'])\n",
    "\n",
    "# new dataframe columns, the element will be changed once the block is assigned to the part of an image\n",
    "dfBlocks['assigned row'] = 0 \n",
    "dfBlocks['assigned col'] = 0\n",
    "\n",
    "# deleting unnecessary data if the image's edges were rounded\n",
    "dfImages = dfImages[0:len(dfBlocks)]"
   ]
  },
  {
   "cell_type": "code",
   "execution_count": 1056,
   "metadata": {},
   "outputs": [],
   "source": [
    "def Normalizer(tensor: torch.tensor, df: pd.Index):\n",
    "    rTensor = tensor[0,:].clone().detach()\n",
    "    rTensor = rTensor / rTensor.sum().expand_as(rTensor)\n",
    "    rTensor = rTensor / torch.norm(rTensor)\n",
    "    gTensor = tensor[1,:].clone().detach()\n",
    "    gTensor = gTensor / gTensor.sum().expand_as(gTensor)\n",
    "    gTensor = gTensor / torch.norm(gTensor)\n",
    "    bTensor = tensor[2,:].clone().detach()\n",
    "    bTensor = bTensor / bTensor.sum().expand_as(bTensor)\n",
    "    bTensor = bTensor / torch.norm(bTensor)\n",
    "    tensor = torch.tensor((dfImages.index, rTensor, bTensor, bTensor))\n",
    "    return tensor"
   ]
  },
  {
   "cell_type": "code",
   "execution_count": 1057,
   "metadata": {},
   "outputs": [],
   "source": [
    "# Define the tensors based on the dataframes\n",
    "torchImages = torch.tensor((dfImages['R_images'], dfImages['G_images'], dfImages['B_images']))\n",
    "torchBlocks = torch.tensor((dfBlocks['R_blocks'], dfBlocks['G_blocks'], dfBlocks['B_blocks']))\n",
    "# Normalize the data and add indexes\n",
    "torchImages = Normalizer(torchImages, dfImages.index)\n",
    "torchBlocks = Normalizer(torchBlocks, dfImages.index)"
   ]
  },
  {
   "cell_type": "code",
   "execution_count": 1058,
   "metadata": {},
   "outputs": [],
   "source": [
    "# to find the correct block, we will need to calculate the three-dimensional Euclidean distance\n",
    "# the mathematical formula for that would be: pow((x2-x1)**2+(y2-y1)**2+(z2-z1)**2, 0.5)\n",
    "def euclidian_distance_vector_single_block(block: tuple, images: pd.DataFrame):\n",
    "    largeDistanceListWithIndexes = []\n",
    "    largeDistanceList = []\n",
    "    y = []\n",
    "    for index in range(0, images.index[-1]+1):\n",
    "        x = (((images['R_images'][index]-block[0])**2 + (images['G_images'][index]-block[1])**2 + (images['B_images'][index]-block[2])**2)**0.5)\n",
    "        y.append(x)\n",
    "        y.append(index)\n",
    "        largeDistanceListWithIndexes.append(y)\n",
    "        largeDistanceList.append(x)\n",
    "        y = []\n",
    "    return largeDistanceListWithIndexes, largeDistanceList"
   ]
  },
  {
   "cell_type": "code",
   "execution_count": 1059,
   "metadata": {},
   "outputs": [],
   "source": [
    "singleBlockDistanceWithIndexes = []\n",
    "singleBlockDistance = []\n",
    "for n in range(0, dfBlocks.index[-1]+1):\n",
    "    x, y = euclidian_distance_vector_single_block((dfBlocks['R_blocks'][n], dfBlocks['G_blocks'][n], dfBlocks['B_blocks'][n]), dfImages)\n",
    "    singleBlockDistanceWithIndexes.append(x)\n",
    "    singleBlockDistance.append(y)"
   ]
  },
  {
   "cell_type": "code",
   "execution_count": 1060,
   "metadata": {},
   "outputs": [],
   "source": [
    "meanBlockDistance = []\n",
    "for n in range(0, dfBlocks.index[-1]+1):\n",
    "    x = np.mean(singleBlockDistance[n])\n",
    "    meanBlockDistance.append(x)"
   ]
  },
  {
   "cell_type": "code",
   "execution_count": 1061,
   "metadata": {},
   "outputs": [],
   "source": [
    "def find_closest(array, mean: float):\n",
    "    newArray = []\n",
    "    for n in range(0, len(array)-1):\n",
    "        if len(array[n]) == 2:\n",
    "            newArray.append(array[n][0])\n",
    "        else:\n",
    "            newArray.append(-1)\n",
    "    array2 = np.asarray(newArray)\n",
    "    idx = (np.abs(array2 - mean)).argmin()\n",
    "    return array[idx]"
   ]
  },
  {
   "cell_type": "code",
   "execution_count": 1062,
   "metadata": {},
   "outputs": [],
   "source": [
    "def removeElement(distanceList: list, index: int):\n",
    "    for n in range(0, len(distanceList)):\n",
    "        newList = distanceList[n]\n",
    "        newList[index].pop(0)\n",
    "        newList[index].pop(0)\n",
    "        distanceList[n] = newList\n",
    "        \n",
    "    return distanceList"
   ]
  },
  {
   "cell_type": "code",
   "execution_count": 1063,
   "metadata": {},
   "outputs": [],
   "source": [
    "closestBlocks = []\n",
    "for n in range(0, dfBlocks.index[-1]):\n",
    "    x = find_closest(singleBlockDistanceWithIndexes[n], meanBlockDistance[n])\n",
    "    y = [x[0], x[1], n]\n",
    "    if n != dfBlocks.index[-1]-1:\n",
    "        closestBlocks.append(y)\n",
    "    singleBlockDistanceWithIndexes = removeElement(singleBlockDistanceWithIndexes, x[1])\n",
    "    \n",
    "for n in singleBlockDistanceWithIndexes[dfBlocks.index[-1]]:\n",
    "    if n:\n",
    "        closestBlocks.append([n[0], n[1], dfBlocks.index[-1]])\n",
    "#print(closestBlocks)"
   ]
  },
  {
   "cell_type": "code",
   "execution_count": 1064,
   "metadata": {},
   "outputs": [
    {
     "name": "stderr",
     "output_type": "stream",
     "text": [
      "C:\\Users\\longw\\AppData\\Local\\Temp\\ipykernel_2556\\1507083721.py:2: SettingWithCopyWarning: \n",
      "A value is trying to be set on a copy of a slice from a DataFrame\n",
      "\n",
      "See the caveats in the documentation: https://pandas.pydata.org/pandas-docs/stable/user_guide/indexing.html#returning-a-view-versus-a-copy\n",
      "  dfBlocks['assigned row'][n[2]] = dfImages['image row'][n[1]]\n",
      "C:\\Users\\longw\\AppData\\Local\\Temp\\ipykernel_2556\\1507083721.py:3: SettingWithCopyWarning: \n",
      "A value is trying to be set on a copy of a slice from a DataFrame\n",
      "\n",
      "See the caveats in the documentation: https://pandas.pydata.org/pandas-docs/stable/user_guide/indexing.html#returning-a-view-versus-a-copy\n",
      "  dfBlocks['assigned col'][n[2]] = dfImages['image col'][n[1]]\n"
     ]
    }
   ],
   "source": [
    "for n in closestBlocks:\n",
    "    dfBlocks['assigned row'][n[2]] = dfImages['image row'][n[1]]\n",
    "    dfBlocks['assigned col'][n[2]] = dfImages['image col'][n[1]]"
   ]
  },
  {
   "cell_type": "code",
   "execution_count": 1065,
   "metadata": {},
   "outputs": [],
   "source": [
    "dfBlocksColumns = dfBlocks.columns.tolist()\n",
    "dfBlocksColumns = dfBlocksColumns[0:3] + dfBlocksColumns[4:] + dfBlocksColumns[3:4]\n",
    "dfBlocks = dfBlocks[dfBlocksColumns]\n",
    "dfBlocks.to_csv(newestDir + 'blocksAssignedToImages.csv', index=False)"
   ]
  }
 ],
 "metadata": {
  "interpreter": {
   "hash": "fa5ba890772ed1c6853a8ca1820a46c7ebefb5390cf27f3b66a02938e9082385"
  },
  "kernelspec": {
   "display_name": "Python 3.9.9 64-bit (windows store)",
   "language": "python",
   "name": "python3"
  },
  "language_info": {
   "codemirror_mode": {
    "name": "ipython",
    "version": 3
   },
   "file_extension": ".py",
   "mimetype": "text/x-python",
   "name": "python",
   "nbconvert_exporter": "python",
   "pygments_lexer": "ipython3",
   "version": "3.9.10"
  },
  "orig_nbformat": 4
 },
 "nbformat": 4,
 "nbformat_minor": 2
}
