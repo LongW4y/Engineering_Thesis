{
 "cells": [
  {
   "cell_type": "code",
   "execution_count": 3,
   "metadata": {},
   "outputs": [],
   "source": [
    "import pandas as pd\n",
    "import numpy as np\n",
    "import pathlib\n",
    "from main import BASEPATH, IMAGESPATH, IMAGEFILENAME, BLOCKFILENAME\n"
   ]
  },
  {
   "cell_type": "code",
   "execution_count": 5,
   "metadata": {},
   "outputs": [],
   "source": [
    "#   INITIAL DATA PREPARATION CELL\n",
    "trainPath = BASEPATH + IMAGESPATH\n",
    "#print(trainPath) # C:\\Users\\longw\\Desktop\\G Drive\\Praca_inżynierska\\Engineering_Thesis\\backups\\images\\\n",
    "withinImages= pathlib.Path(trainPath).glob('*')\n",
    "dataPaths = [file for file in withinImages if file.is_dir()]\n",
    "newestDir = str(dataPaths[-1]) + '\\\\'\n",
    "#print(newestDir) # C:\\Users\\longw\\Desktop\\G Drive\\Praca_inżynierska\\Engineering_Thesis\\backups\\images\\220117_21214749\\\n",
    "dfImages = pd.read_csv(newestDir + IMAGEFILENAME, header=None, names=['R','G','B'])\n",
    "dfBlocks = pd.read_csv(newestDir + BLOCKFILENAME, header=None, names=['R','G','B'])\n",
    "# changing the index, as the last index number will be equal to:\n",
    "# the total number of images, and to the name of the image ({number}.png)\n",
    "dfImages.index += 1\n",
    "dfBlocks.index += 1\n",
    "# deleting unnecessary data if the image's edges were rounded\n",
    "dfImages = dfImages[0:len(dfBlocks)]"
   ]
  },
  {
   "cell_type": "code",
   "execution_count": 29,
   "metadata": {},
   "outputs": [
    {
     "name": "stdout",
     "output_type": "stream",
     "text": [
      "      R   G    B\n",
      "1     5  21   83\n",
      "2     5  21   83\n",
      "3     5  21   83\n",
      "4     5  21   84\n",
      "5     5  21   83\n",
      "6     5  21   83\n",
      "7     5  21   83\n",
      "8     5  21   83\n",
      "9     5  21   83\n",
      "10    0   1    5\n",
      "11    6  28   68\n",
      "12    3  12   56\n",
      "13    3  12   56\n",
      "14    5  12   57\n",
      "15   47  13   93\n",
      "16    7  12   59\n",
      "17    3  12   56\n",
      "18    3  12   56\n",
      "19    8  27   67\n",
      "20    1   2    5\n",
      "21   10  48   72\n",
      "22   13  42   74\n",
      "23    6  15   40\n",
      "24   82   6   98\n",
      "25  192  11  201\n",
      "26   92   7  108\n",
      "27   13  13   45\n",
      "28   26  49   89\n",
      "29   15  61   84\n",
      "30    0   3    4\n",
      "31    9  43   76\n",
      "32   15  46   99\n",
      "33   24  45  103\n",
      "34   80  40  136\n",
      "35  152  42  196\n",
      "36   90  41  144\n",
      "37   27  44  104\n",
      "38   19  45  107\n",
      "39   12  45  106\n",
      "40    0   2    5\n",
      "41    9  48  108\n",
      "42   12  45  104\n",
      "43   15  43  105\n",
      "44   49  43  123\n",
      "45   73  40  139\n"
     ]
    }
   ],
   "source": []
  }
 ],
 "metadata": {
  "interpreter": {
   "hash": "fa5ba890772ed1c6853a8ca1820a46c7ebefb5390cf27f3b66a02938e9082385"
  },
  "kernelspec": {
   "display_name": "Python 3.9.9 64-bit (windows store)",
   "language": "python",
   "name": "python3"
  },
  "language_info": {
   "codemirror_mode": {
    "name": "ipython",
    "version": 3
   },
   "file_extension": ".py",
   "mimetype": "text/x-python",
   "name": "python",
   "nbconvert_exporter": "python",
   "pygments_lexer": "ipython3",
   "version": "3.9.10"
  },
  "orig_nbformat": 4
 },
 "nbformat": 4,
 "nbformat_minor": 2
}
